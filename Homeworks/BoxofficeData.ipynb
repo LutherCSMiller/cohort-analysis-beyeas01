{
 "cells": [
  {
   "cell_type": "code",
   "execution_count": 6,
   "metadata": {
    "collapsed": true
   },
   "outputs": [],
   "source": [
    "%matplotlib inline\n",
    "import pandas as pd\n",
    "import seaborn as sbn\n",
    "import json"
   ]
  },
  {
   "cell_type": "code",
   "execution_count": 17,
   "metadata": {
    "collapsed": true
   },
   "outputs": [],
   "source": [
    "from bs4 import BeautifulSoup\n",
    "import requests\n",
    "import csv"
   ]
  },
  {
   "cell_type": "code",
   "execution_count": 22,
   "metadata": {
    "collapsed": true
   },
   "outputs": [],
   "source": [
    "r = requests.get('http://www.omdbapi.com/?s=movie')"
   ]
  },
  {
   "cell_type": "code",
   "execution_count": 24,
   "metadata": {
    "collapsed": false
   },
   "outputs": [
    {
     "data": {
      "text/plain": [
       "{'Response': 'True',\n",
       " 'Search': [{'Poster': 'http://ia.media-imdb.com/images/M/MV5BMTgxMDczMTA5N15BMl5BanBnXkFtZTcwMzk1MzMzMw@@._V1_SX300.jpg',\n",
       "   'Title': 'The Simpsons Movie',\n",
       "   'Type': 'movie',\n",
       "   'Year': '2007',\n",
       "   'imdbID': 'tt0462538'},\n",
       "  {'Poster': 'http://ia.media-imdb.com/images/M/MV5BMTg4MDk1ODExN15BMl5BanBnXkFtZTgwNzIyNjg3MDE@._V1_SX300.jpg',\n",
       "   'Title': 'The Lego Movie',\n",
       "   'Type': 'movie',\n",
       "   'Year': '2014',\n",
       "   'imdbID': 'tt1490017'},\n",
       "  {'Poster': 'http://ia.media-imdb.com/images/M/MV5BMGEzZjdjMGQtZmYzZC00N2I4LThiY2QtNWY5ZmQ3M2ExZmM4XkEyXkFqcGdeQXVyMTQxNzMzNDI@._V1_SX300.jpg',\n",
       "   'Title': 'Scary Movie',\n",
       "   'Type': 'movie',\n",
       "   'Year': '2000',\n",
       "   'imdbID': 'tt0175142'},\n",
       "  {'Poster': 'http://ia.media-imdb.com/images/M/MV5BMzQxYjU1OTUtYjRiOC00NDg2LWI4MWUtZGU5YzdkYTcwNTBlXkEyXkFqcGdeQXVyMTQxNzMzNDI@._V1_SX300.jpg',\n",
       "   'Title': 'Scary Movie 2',\n",
       "   'Type': 'movie',\n",
       "   'Year': '2001',\n",
       "   'imdbID': 'tt0257106'},\n",
       "  {'Poster': 'http://ia.media-imdb.com/images/M/MV5BNDE2NTIyMjg2OF5BMl5BanBnXkFtZTYwNDEyMTg3._V1_SX300.jpg',\n",
       "   'Title': 'Scary Movie 3',\n",
       "   'Type': 'movie',\n",
       "   'Year': '2003',\n",
       "   'imdbID': 'tt0306047'},\n",
       "  {'Poster': 'http://ia.media-imdb.com/images/M/MV5BMjE1MDYxOTA4MF5BMl5BanBnXkFtZTcwMDE0MDUzMw@@._V1_SX300.jpg',\n",
       "   'Title': 'Bee Movie',\n",
       "   'Type': 'movie',\n",
       "   'Year': '2007',\n",
       "   'imdbID': 'tt0389790'},\n",
       "  {'Poster': 'http://ia.media-imdb.com/images/M/MV5BZmFkMzc2NTctN2U1Ni00MzE5LWJmMzMtYWQ4NjQyY2MzYmM1XkEyXkFqcGdeQXVyNTIzOTk5ODM@._V1_SX300.jpg',\n",
       "   'Title': 'Scary Movie 4',\n",
       "   'Type': 'movie',\n",
       "   'Year': '2006',\n",
       "   'imdbID': 'tt0362120'},\n",
       "  {'Poster': 'N/A',\n",
       "   'Title': 'Epic Movie',\n",
       "   'Type': 'movie',\n",
       "   'Year': '2007',\n",
       "   'imdbID': 'tt0799949'},\n",
       "  {'Poster': 'http://ia.media-imdb.com/images/M/MV5BODYyNTQyNzAzNF5BMl5BanBnXkFtZTgwNTA4ODYxMTE@._V1_SX300.jpg',\n",
       "   'Title': 'Not Another Teen Movie',\n",
       "   'Type': 'movie',\n",
       "   'Year': '2001',\n",
       "   'imdbID': 'tt0277371'},\n",
       "  {'Poster': 'http://ia.media-imdb.com/images/M/MV5BMTg4NzQ3NDM1Nl5BMl5BanBnXkFtZTcwNjEzMjM3OA@@._V1_SX300.jpg',\n",
       "   'Title': 'Movie 43',\n",
       "   'Type': 'movie',\n",
       "   'Year': '2013',\n",
       "   'imdbID': 'tt1333125'}],\n",
       " 'totalResults': '3304'}"
      ]
     },
     "execution_count": 24,
     "metadata": {},
     "output_type": "execute_result"
    }
   ],
   "source": [
    "r.json()"
   ]
  },
  {
   "cell_type": "code",
   "execution_count": 26,
   "metadata": {
    "collapsed": false
   },
   "outputs": [
    {
     "data": {
      "text/plain": [
       "['__attrs__',\n",
       " '__bool__',\n",
       " '__class__',\n",
       " '__delattr__',\n",
       " '__dict__',\n",
       " '__dir__',\n",
       " '__doc__',\n",
       " '__eq__',\n",
       " '__format__',\n",
       " '__ge__',\n",
       " '__getattribute__',\n",
       " '__getstate__',\n",
       " '__gt__',\n",
       " '__hash__',\n",
       " '__init__',\n",
       " '__iter__',\n",
       " '__le__',\n",
       " '__lt__',\n",
       " '__module__',\n",
       " '__ne__',\n",
       " '__new__',\n",
       " '__nonzero__',\n",
       " '__reduce__',\n",
       " '__reduce_ex__',\n",
       " '__repr__',\n",
       " '__setattr__',\n",
       " '__setstate__',\n",
       " '__sizeof__',\n",
       " '__str__',\n",
       " '__subclasshook__',\n",
       " '__weakref__',\n",
       " '_content',\n",
       " '_content_consumed',\n",
       " 'apparent_encoding',\n",
       " 'close',\n",
       " 'connection',\n",
       " 'content',\n",
       " 'cookies',\n",
       " 'elapsed',\n",
       " 'encoding',\n",
       " 'headers',\n",
       " 'history',\n",
       " 'is_permanent_redirect',\n",
       " 'is_redirect',\n",
       " 'iter_content',\n",
       " 'iter_lines',\n",
       " 'json',\n",
       " 'links',\n",
       " 'ok',\n",
       " 'raise_for_status',\n",
       " 'raw',\n",
       " 'reason',\n",
       " 'request',\n",
       " 'status_code',\n",
       " 'text',\n",
       " 'url']"
      ]
     },
     "execution_count": 26,
     "metadata": {},
     "output_type": "execute_result"
    }
   ],
   "source": [
    "dir(r)"
   ]
  },
  {
   "cell_type": "code",
   "execution_count": 28,
   "metadata": {
    "collapsed": false
   },
   "outputs": [
    {
     "data": {
      "text/plain": [
       "'http://www.omdbapi.com/?s=movie'"
      ]
     },
     "execution_count": 28,
     "metadata": {},
     "output_type": "execute_result"
    }
   ],
   "source": [
    "r.url"
   ]
  },
  {
   "cell_type": "code",
   "execution_count": 30,
   "metadata": {
    "collapsed": false
   },
   "outputs": [
    {
     "data": {
      "text/plain": [
       "{}"
      ]
     },
     "execution_count": 30,
     "metadata": {},
     "output_type": "execute_result"
    }
   ],
   "source": [
    "r.links"
   ]
  },
  {
   "cell_type": "code",
   "execution_count": 33,
   "metadata": {
    "collapsed": false
   },
   "outputs": [
    {
     "data": {
      "text/plain": [
       "'{\"Search\":[{\"Title\":\"The Simpsons Movie\",\"Year\":\"2007\",\"imdbID\":\"tt0462538\",\"Type\":\"movie\",\"Poster\":\"http://ia.media-imdb.com/images/M/MV5BMTgxMDczMTA5N15BMl5BanBnXkFtZTcwMzk1MzMzMw@@._V1_SX300.jpg\"},{\"Title\":\"The Lego Movie\",\"Year\":\"2014\",\"imdbID\":\"tt1490017\",\"Type\":\"movie\",\"Poster\":\"http://ia.media-imdb.com/images/M/MV5BMTg4MDk1ODExN15BMl5BanBnXkFtZTgwNzIyNjg3MDE@._V1_SX300.jpg\"},{\"Title\":\"Scary Movie\",\"Year\":\"2000\",\"imdbID\":\"tt0175142\",\"Type\":\"movie\",\"Poster\":\"http://ia.media-imdb.com/images/M/MV5BMGEzZjdjMGQtZmYzZC00N2I4LThiY2QtNWY5ZmQ3M2ExZmM4XkEyXkFqcGdeQXVyMTQxNzMzNDI@._V1_SX300.jpg\"},{\"Title\":\"Scary Movie 2\",\"Year\":\"2001\",\"imdbID\":\"tt0257106\",\"Type\":\"movie\",\"Poster\":\"http://ia.media-imdb.com/images/M/MV5BMzQxYjU1OTUtYjRiOC00NDg2LWI4MWUtZGU5YzdkYTcwNTBlXkEyXkFqcGdeQXVyMTQxNzMzNDI@._V1_SX300.jpg\"},{\"Title\":\"Scary Movie 3\",\"Year\":\"2003\",\"imdbID\":\"tt0306047\",\"Type\":\"movie\",\"Poster\":\"http://ia.media-imdb.com/images/M/MV5BNDE2NTIyMjg2OF5BMl5BanBnXkFtZTYwNDEyMTg3._V1_SX300.jpg\"},{\"Title\":\"Bee Movie\",\"Year\":\"2007\",\"imdbID\":\"tt0389790\",\"Type\":\"movie\",\"Poster\":\"http://ia.media-imdb.com/images/M/MV5BMjE1MDYxOTA4MF5BMl5BanBnXkFtZTcwMDE0MDUzMw@@._V1_SX300.jpg\"},{\"Title\":\"Scary Movie 4\",\"Year\":\"2006\",\"imdbID\":\"tt0362120\",\"Type\":\"movie\",\"Poster\":\"http://ia.media-imdb.com/images/M/MV5BZmFkMzc2NTctN2U1Ni00MzE5LWJmMzMtYWQ4NjQyY2MzYmM1XkEyXkFqcGdeQXVyNTIzOTk5ODM@._V1_SX300.jpg\"},{\"Title\":\"Epic Movie\",\"Year\":\"2007\",\"imdbID\":\"tt0799949\",\"Type\":\"movie\",\"Poster\":\"N/A\"},{\"Title\":\"Not Another Teen Movie\",\"Year\":\"2001\",\"imdbID\":\"tt0277371\",\"Type\":\"movie\",\"Poster\":\"http://ia.media-imdb.com/images/M/MV5BODYyNTQyNzAzNF5BMl5BanBnXkFtZTgwNTA4ODYxMTE@._V1_SX300.jpg\"},{\"Title\":\"Movie 43\",\"Year\":\"2013\",\"imdbID\":\"tt1333125\",\"Type\":\"movie\",\"Poster\":\"http://ia.media-imdb.com/images/M/MV5BMTg4NzQ3NDM1Nl5BMl5BanBnXkFtZTcwNjEzMjM3OA@@._V1_SX300.jpg\"}],\"totalResults\":\"3304\",\"Response\":\"True\"}'"
      ]
     },
     "execution_count": 33,
     "metadata": {},
     "output_type": "execute_result"
    }
   ],
   "source": [
    "r.text"
   ]
  },
  {
   "cell_type": "code",
   "execution_count": 41,
   "metadata": {
    "collapsed": false
   },
   "outputs": [],
   "source": [
    "k=json.loads(r.text)"
   ]
  },
  {
   "cell_type": "code",
   "execution_count": 57,
   "metadata": {
    "collapsed": false
   },
   "outputs": [
    {
     "data": {
      "text/plain": [
       "{'Response': 'True',\n",
       " 'Search': [{'Poster': 'http://ia.media-imdb.com/images/M/MV5BMTgxMDczMTA5N15BMl5BanBnXkFtZTcwMzk1MzMzMw@@._V1_SX300.jpg',\n",
       "   'Title': 'The Simpsons Movie',\n",
       "   'Type': 'movie',\n",
       "   'Year': '2007',\n",
       "   'imdbID': 'tt0462538'},\n",
       "  {'Poster': 'http://ia.media-imdb.com/images/M/MV5BMTg4MDk1ODExN15BMl5BanBnXkFtZTgwNzIyNjg3MDE@._V1_SX300.jpg',\n",
       "   'Title': 'The Lego Movie',\n",
       "   'Type': 'movie',\n",
       "   'Year': '2014',\n",
       "   'imdbID': 'tt1490017'},\n",
       "  {'Poster': 'http://ia.media-imdb.com/images/M/MV5BMGEzZjdjMGQtZmYzZC00N2I4LThiY2QtNWY5ZmQ3M2ExZmM4XkEyXkFqcGdeQXVyMTQxNzMzNDI@._V1_SX300.jpg',\n",
       "   'Title': 'Scary Movie',\n",
       "   'Type': 'movie',\n",
       "   'Year': '2000',\n",
       "   'imdbID': 'tt0175142'},\n",
       "  {'Poster': 'http://ia.media-imdb.com/images/M/MV5BMzQxYjU1OTUtYjRiOC00NDg2LWI4MWUtZGU5YzdkYTcwNTBlXkEyXkFqcGdeQXVyMTQxNzMzNDI@._V1_SX300.jpg',\n",
       "   'Title': 'Scary Movie 2',\n",
       "   'Type': 'movie',\n",
       "   'Year': '2001',\n",
       "   'imdbID': 'tt0257106'},\n",
       "  {'Poster': 'http://ia.media-imdb.com/images/M/MV5BNDE2NTIyMjg2OF5BMl5BanBnXkFtZTYwNDEyMTg3._V1_SX300.jpg',\n",
       "   'Title': 'Scary Movie 3',\n",
       "   'Type': 'movie',\n",
       "   'Year': '2003',\n",
       "   'imdbID': 'tt0306047'},\n",
       "  {'Poster': 'http://ia.media-imdb.com/images/M/MV5BMjE1MDYxOTA4MF5BMl5BanBnXkFtZTcwMDE0MDUzMw@@._V1_SX300.jpg',\n",
       "   'Title': 'Bee Movie',\n",
       "   'Type': 'movie',\n",
       "   'Year': '2007',\n",
       "   'imdbID': 'tt0389790'},\n",
       "  {'Poster': 'http://ia.media-imdb.com/images/M/MV5BZmFkMzc2NTctN2U1Ni00MzE5LWJmMzMtYWQ4NjQyY2MzYmM1XkEyXkFqcGdeQXVyNTIzOTk5ODM@._V1_SX300.jpg',\n",
       "   'Title': 'Scary Movie 4',\n",
       "   'Type': 'movie',\n",
       "   'Year': '2006',\n",
       "   'imdbID': 'tt0362120'},\n",
       "  {'Poster': 'N/A',\n",
       "   'Title': 'Epic Movie',\n",
       "   'Type': 'movie',\n",
       "   'Year': '2007',\n",
       "   'imdbID': 'tt0799949'},\n",
       "  {'Poster': 'http://ia.media-imdb.com/images/M/MV5BODYyNTQyNzAzNF5BMl5BanBnXkFtZTgwNTA4ODYxMTE@._V1_SX300.jpg',\n",
       "   'Title': 'Not Another Teen Movie',\n",
       "   'Type': 'movie',\n",
       "   'Year': '2001',\n",
       "   'imdbID': 'tt0277371'},\n",
       "  {'Poster': 'http://ia.media-imdb.com/images/M/MV5BMTg4NzQ3NDM1Nl5BMl5BanBnXkFtZTcwNjEzMjM3OA@@._V1_SX300.jpg',\n",
       "   'Title': 'Movie 43',\n",
       "   'Type': 'movie',\n",
       "   'Year': '2013',\n",
       "   'imdbID': 'tt1333125'}],\n",
       " 'totalResults': '3304'}"
      ]
     },
     "execution_count": 57,
     "metadata": {},
     "output_type": "execute_result"
    }
   ],
   "source": [
    "k"
   ]
  },
  {
   "cell_type": "code",
   "execution_count": null,
   "metadata": {
    "collapsed": false
   },
   "outputs": [],
   "source": []
  },
  {
   "cell_type": "code",
   "execution_count": 62,
   "metadata": {
    "collapsed": false
   },
   "outputs": [
    {
     "data": {
      "text/plain": [
       "dict_keys(['Response', 'Search', 'totalResults'])"
      ]
     },
     "execution_count": 62,
     "metadata": {},
     "output_type": "execute_result"
    }
   ],
   "source": [
    "y = k.keys()"
   ]
  },
  {
   "cell_type": "code",
   "execution_count": 66,
   "metadata": {
    "collapsed": false
   },
   "outputs": [
    {
     "data": {
      "text/plain": [
       "'\\\\'"
      ]
     },
     "execution_count": 66,
     "metadata": {},
     "output_type": "execute_result"
    }
   ],
   "source": []
  },
  {
   "cell_type": "code",
   "execution_count": 53,
   "metadata": {
    "collapsed": false
   },
   "outputs": [
    {
     "data": {
      "text/plain": [
       "str"
      ]
     },
     "execution_count": 53,
     "metadata": {},
     "output_type": "execute_result"
    }
   ],
   "source": []
  },
  {
   "cell_type": "code",
   "execution_count": null,
   "metadata": {
    "collapsed": false
   },
   "outputs": [],
   "source": []
  },
  {
   "cell_type": "code",
   "execution_count": null,
   "metadata": {
    "collapsed": true
   },
   "outputs": [],
   "source": []
  }
 ],
 "metadata": {
  "kernelspec": {
   "display_name": "Python 3",
   "language": "python",
   "name": "python3"
  },
  "language_info": {
   "codemirror_mode": {
    "name": "ipython",
    "version": 3
   },
   "file_extension": ".py",
   "mimetype": "text/x-python",
   "name": "python",
   "nbconvert_exporter": "python",
   "pygments_lexer": "ipython3",
   "version": "3.5.1"
  }
 },
 "nbformat": 4,
 "nbformat_minor": 0
}
